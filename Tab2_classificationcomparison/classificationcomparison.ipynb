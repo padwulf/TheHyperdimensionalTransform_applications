{
 "cells": [
  {
   "cell_type": "code",
   "execution_count": 1,
   "metadata": {},
   "outputs": [
    {
     "data": {
      "text/plain": [
       "find_normalization (generic function with 1 method)"
      ]
     },
     "execution_count": 1,
     "metadata": {},
     "output_type": "execute_result"
    }
   ],
   "source": [
    "include(\"../encoding.jl\")"
   ]
  },
  {
   "cell_type": "code",
   "execution_count": 2,
   "metadata": {},
   "outputs": [],
   "source": [
    "using LinearAlgebra"
   ]
  },
  {
   "cell_type": "code",
   "execution_count": 3,
   "metadata": {},
   "outputs": [
    {
     "data": {
      "text/plain": [
       "printresults (generic function with 1 method)"
      ]
     },
     "execution_count": 3,
     "metadata": {},
     "output_type": "execute_result"
    }
   ],
   "source": [
    "function printresults(x)\n",
    "    Δx = encode(encoder, x)\n",
    "    ϕx = encode(encoder, x, normalized=false);\n",
    "    fx = f.(x);\n",
    "\n",
    "    # 1. [S+] - [S_-]\n",
    "    Sp = sum(ϕx[fx.>0,:], dims=1)[:];\n",
    "    Sn = sum(ϕx[fx.<0,:], dims=1)[:];\n",
    "    pred = ((sign.(Sp) - sign.(Sn))'*ϕx')[:];\n",
    "    acc = Statistics.mean(sign.(pred).==fx)\n",
    "    println(acc)\n",
    "\n",
    "    # 2. [S+-S_-]\n",
    "    pred = ((sign.(Sp .- Sn))'*ϕx')[:];\n",
    "    acc = Statistics.mean(sign.(pred).==fx)\n",
    "    println(acc)\n",
    "\n",
    "    # 3. S+ - S-\n",
    "    pred = ((Sp .- Sn)'*ϕx')[:];\n",
    "    acc = Statistics.mean(sign.(pred).==fx)\n",
    "    println(acc)\n",
    "\n",
    "    # 4. F\n",
    "    P = mean(Δx, dims=1)\n",
    "    px = P*Δx' /D\n",
    "    F = Δx'*(fx ./ px[:])\n",
    "    pred= ((Δx*F)[:]/ D);\n",
    "    acc = Statistics.mean(sign.(pred).==fx)\n",
    "    println(acc)\n",
    "\n",
    "    # 5. [F]\n",
    "    pred= ((Δx*sign.(F))[:]/ D);\n",
    "    acc = Statistics.mean(sign.(pred).==fx)\n",
    "    println(acc)\n",
    "\n",
    "    # 6. P\n",
    "    Vpos = rand([-1,1],D)\n",
    "    Vneg = rand([-1,1],D)\n",
    "    P = Vpos.* sum(Δx[fx.>0,:], dims=1)[:] .+ Vneg .* sum(Δx[fx.<0,:], dims=1)[:] #sum! do not use mean! (messes with the prior)\n",
    "    pred = (Δx .* P') * (Vpos .- Vneg)\n",
    "    acc = Statistics.mean(sign.(pred).==fx)\n",
    "    println(acc)\n",
    "\n",
    "    # 7. [P]\n",
    "    pred = (Δx .* sign.(P)') * (Vpos .- Vneg)\n",
    "    acc = Statistics.mean(sign.(pred).==fx)\n",
    "    println(acc)\n",
    "\n",
    "    #8. M - λ=1\n",
    "    function solve_ridge(X::AbstractMatrix,B;λ=1)\n",
    "        F =  inv(X'*X + λ*I)*X'*B\n",
    "        return F\n",
    "    end\n",
    "    function solve_ridge_woodbury(X::AbstractMatrix,B;λ=1)\n",
    "        F = (I/λ - X'*inv(I+X*X'/λ)*X /λ^2)*X'*B\n",
    "        return F\n",
    "    end\n",
    "    M = solve_ridge_woodbury(Δx, fx, λ=1) #very few data points while many dimensions: efficient woodbury\n",
    "    pred= ((Δx*M)[:]/ D);\n",
    "    acc = Statistics.mean(sign.(pred).==fx)\n",
    "    println(acc)\n",
    "\n",
    "    #9. [M] - λ=1\n",
    "    pred= ((Δx*sign.(M))[:]/ D);\n",
    "    acc = Statistics.mean(sign.(pred).==fx)\n",
    "    println(acc, \" bipolar approximation [M] if ridge parameter to small: less robust for approximating\")\n",
    "\n",
    "    #8. M - λ=1e4\n",
    "    M = solve_ridge_woodbury(Δx, fx, λ=1e4) #very few data points while many dimensions: efficient woodbury\n",
    "    pred= ((Δx*M)[:]/ D);\n",
    "    acc = Statistics.mean(sign.(pred).==fx)\n",
    "    println(acc)\n",
    "\n",
    "    #9. [M] - λ=1e4\n",
    "    pred= ((Δx*sign.(M))[:]/ D);\n",
    "    acc = Statistics.mean(sign.(pred).==fx)\n",
    "    println(acc)\n",
    "end"
   ]
  },
  {
   "cell_type": "code",
   "execution_count": 4,
   "metadata": {},
   "outputs": [],
   "source": [
    "l, D, bipolar = 0.1, 20_000, true\n",
    "encoder = realvalue_encoder(l,D, bipolar=bipolar);"
   ]
  },
  {
   "cell_type": "code",
   "execution_count": 5,
   "metadata": {},
   "outputs": [
    {
     "data": {
      "text/plain": [
       "f (generic function with 1 method)"
      ]
     },
     "execution_count": 5,
     "metadata": {},
     "output_type": "execute_result"
    }
   ],
   "source": [
    "a,b = 0.145651, 0.3565\n",
    "function f(x)\n",
    "    if x> a && x<b\n",
    "        return 1.\n",
    "    else\n",
    "        return -1.\n",
    "    end\n",
    "end"
   ]
  },
  {
   "cell_type": "code",
   "execution_count": 6,
   "metadata": {},
   "outputs": [
    {
     "name": "stdout",
     "output_type": "stream",
     "text": [
      "0.9\n",
      "0.98\n",
      "1.0\n",
      "1.0\n",
      "1.0\n",
      "1.0\n",
      "1.0\n",
      "1.0\n",
      "0.79 bipolar approximation [M] if ridge parameter to small: less robust for approximating\n",
      "1.0\n",
      "1.0\n"
     ]
    }
   ],
   "source": [
    "x = range(0,1,length=100)\n",
    "printresults(x)"
   ]
  },
  {
   "cell_type": "code",
   "execution_count": 7,
   "metadata": {},
   "outputs": [
    {
     "name": "stdout",
     "output_type": "stream",
     "text": [
      "0.95\n",
      "0.96\n",
      "0.97\n",
      "0.98\n",
      "0.98\n",
      "0.97\n",
      "0.96\n",
      "1.0\n",
      "0.52 bipolar approximation [M] if ridge parameter to small: less robust for approximating\n",
      "1.0\n",
      "1.0\n"
     ]
    }
   ],
   "source": [
    "x = vcat(collect(range(0,a,length=26)[1:end-1]), collect(range(a,b,length=50)), collect(range(b,1,length=26)[2:end]))\n",
    "printresults(x)"
   ]
  }
 ],
 "metadata": {
  "kernelspec": {
   "display_name": "Julia 1.6.2",
   "language": "julia",
   "name": "julia-1.6"
  },
  "language_info": {
   "file_extension": ".jl",
   "mimetype": "application/julia",
   "name": "julia",
   "version": "1.6.2"
  }
 },
 "nbformat": 4,
 "nbformat_minor": 4
}
